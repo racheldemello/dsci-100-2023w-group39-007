{
 "cells": [
  {
   "cell_type": "markdown",
   "id": "b8cc3ce2-c8c4-4c57-9859-15c7f82ba0f0",
   "metadata": {},
   "source": [
    "To conduct our data analysis, we will select the columns 'Country' and 'Current Rank' from the tennis player stats data set, and then manually sort the 'Country' column into a new column called 'Continent'. Using the 'Continent' and 'Current Rank' columns, we will try and predict a player's current rank based on their continent by using K nearest neighbours regression. We will visualize our results using a scatter plot, where we can see whether there is a correlation between continent and current rank."
   ]
  }
 ],
 "metadata": {
  "kernelspec": {
   "display_name": "Python 3 (ipykernel)",
   "language": "python",
   "name": "python3"
  },
  "language_info": {
   "codemirror_mode": {
    "name": "ipython",
    "version": 3
   },
   "file_extension": ".py",
   "mimetype": "text/x-python",
   "name": "python",
   "nbconvert_exporter": "python",
   "pygments_lexer": "ipython3",
   "version": "3.10.5"
  }
 },
 "nbformat": 4,
 "nbformat_minor": 5
}
